{
 "cells": [
  {
   "cell_type": "code",
   "execution_count": 3,
   "metadata": {
    "collapsed": false
   },
   "outputs": [
    {
     "name": "stdout",
     "output_type": "stream",
     "text": [
      "Populating the interactive namespace from numpy and matplotlib\n"
     ]
    }
   ],
   "source": [
    "%pylab inline"
   ]
  },
  {
   "cell_type": "markdown",
   "metadata": {},
   "source": [
    "# Zimmer Foot Analysis\n",
    "\n",
    "*Daniel Cellucci*\n",
    "\n",
    "## Characteristics\n"
   ]
  },
  {
   "cell_type": "markdown",
   "metadata": {},
   "source": [
    "## Material Properties\n",
    "\n",
    "**Sources:**\n",
    "\n",
    " 1. Plywood: https://www.fpl.fs.fed.us/documnts/fplgtr/fplgtr190/chapter_12.pdf\n",
    " "
   ]
  },
  {
   "cell_type": "code",
   "execution_count": 5,
   "metadata": {
    "collapsed": true
   },
   "outputs": [],
   "source": [
    "#plywood\n",
    "pw_flexmod = 8e9 #Pa\n",
    "pw_tenstr = 37.5e6 #Pa\n",
    "pw_den = 500 #kg/m^3"
   ]
  },
  {
   "cell_type": "markdown",
   "metadata": {},
   "source": [
    "## Octet Cellular Solids Analysis\n",
    "\n",
    "**Sources:**\n",
    " 1. Deshpande, Vikram S., Norman A. Fleck, and Michael F. Ashby. \"Effective properties of the octet-truss lattice material.\" Journal of the Mechanics and Physics of Solids 49.8 (2001): 1747-1769.\n",
    "\n",
    "Strength of the lattice is typically determined by the relationship\n",
    "\n",
    "$$\n",
    "\\frac{\\sigma^Y_{zz}}{\\sigma_Y} = \\frac{\\rho^*}{\\rho}\n",
    "$$\n",
    "\n",
    "Where $\\sigma^Y_{zz}$ is the yield strength of the cellular solid when loaded in the z-direction, $\\sigma_Y$ is the yield strength of the constituent material, $\\rho^*$ is the density of the cellular solid, and $\\rho$ is the density of the constituent material.\n",
    "\n",
    "This linear strength scaling predicts lattice behavior when the beams that comprise the lattice fail through tensile yield rather than plastic buckling. The buckling criterion can be modeled using the (conservative) Euler buckling:\n",
    "\n",
    "$$\n",
    "P_E = \\frac{\\pi^3 E_s a^4}{4l^2}\n",
    "$$\n",
    "\n",
    "and the tensile failure criterion is simply\n",
    "\n",
    "$$\n",
    "P_Y = \\pi a^2 \\sigma_Y.\n",
    "$$\n",
    "\n",
    "Where $a$ is the dimension of the square cross-section, $l$ is the length of a typical beam, and $E_s$ is the modulus of the constituent material.\n",
    "\n",
    "(That is, when $P_E < P_Y$, linear strength scaling is upheld)"
   ]
  },
  {
   "cell_type": "markdown",
   "metadata": {},
   "source": [
    "$$\n",
    "\\frac{a}{l} = \\sqrt{\\frac{\\sigma_Y}{E_s}\\frac{4}{\\pi^2}}\n",
    "$$"
   ]
  },
  {
   "cell_type": "markdown",
   "metadata": {},
   "source": [
    "### Analysis\n",
    " * The smallest dimension is 2ft (0.61 m)\n",
    " * What is the minimum strut size $a$ assuming {2,3,4} voxel depth?\n",
    " * Assuming material thickness of {0.0127, 0.0254, 0.0508}, what is max. strut length $l$?"
   ]
  },
  {
   "cell_type": "code",
   "execution_count": 26,
   "metadata": {
    "collapsed": false
   },
   "outputs": [
    {
     "name": "stdout",
     "output_type": "stream",
     "text": [
      "Minimum relative density:\n",
      "\t0.051\n",
      "\n",
      "Density of lattice:\n",
      "\t25.321 kg/m^3\n",
      "\n",
      "Total mass of foot:\n",
      "\t86.212 kg\n",
      "\n",
      "0.00940016777194\n",
      "0.00626677851463\n",
      "0.00470008388597\n"
     ]
    }
   ],
   "source": [
    "a_l = sqrt(pw_tenstr/pw_flexmod*4/pi**2)\n",
    "\n",
    "min_rel_den = 6*sqrt(2)*pi*a_l**2\n",
    "print(\"Minimum relative density:\\n\\t{0:5.3f}\\n\".format(min_rel_den))\n",
    "print(\"Density of lattice:\\n\\t{0:5.3f} kg/m^3\\n\".format(min_rel_den*pw_den))\n",
    "print(\"Total mass of foot:\\n\\t{:5.3f} kg\\n\".format(min_rel_den*0.61*0.61*3*0.61*5*pw_den))\n",
    "\n",
    "\n",
    "foot_depth = 0.61 #m\n",
    "voxels_per_depth = [2,3,4]\n",
    "uc_dim = [0.61/i for i in voxels_per_depth] #m\n",
    "ls = [i/sqrt(2) for i in uc_dim] #m\n",
    "\n",
    "for l in ls:\n",
    "    a = sqrt(pw_tenstr/pw_flexmod*4*l**2/pi**2)\n",
    "    print a"
   ]
  },
  {
   "cell_type": "code",
   "execution_count": null,
   "metadata": {
    "collapsed": true
   },
   "outputs": [],
   "source": []
  }
 ],
 "metadata": {
  "anaconda-cloud": {},
  "kernelspec": {
   "display_name": "Python 2",
   "language": "python",
   "name": "python2"
  },
  "language_info": {
   "codemirror_mode": {
    "name": "ipython",
    "version": 2
   },
   "file_extension": ".py",
   "mimetype": "text/x-python",
   "name": "python",
   "nbconvert_exporter": "python",
   "pygments_lexer": "ipython2",
   "version": "2.7.12"
  }
 },
 "nbformat": 4,
 "nbformat_minor": 0
}
